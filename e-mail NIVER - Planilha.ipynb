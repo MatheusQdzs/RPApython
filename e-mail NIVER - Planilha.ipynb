{
 "cells": [
  {
   "cell_type": "code",
   "execution_count": null,
   "id": "b2a65011",
   "metadata": {},
   "outputs": [],
   "source": [
    "### bIBLIOTECAS Robotic Process Automation – RPA"
   ]
  },
  {
   "cell_type": "code",
   "execution_count": 1,
   "id": "1de5f8bb",
   "metadata": {},
   "outputs": [],
   "source": [
    "import pyautogui\n",
    "import pyperclip\n",
    "import time\n",
    "\n",
    "pyautogui.PAUSE = 1"
   ]
  },
  {
   "cell_type": "code",
   "execution_count": 2,
   "id": "8034cbee",
   "metadata": {},
   "outputs": [
    {
     "data": {
      "text/html": [
       "<div>\n",
       "<style scoped>\n",
       "    .dataframe tbody tr th:only-of-type {\n",
       "        vertical-align: middle;\n",
       "    }\n",
       "\n",
       "    .dataframe tbody tr th {\n",
       "        vertical-align: top;\n",
       "    }\n",
       "\n",
       "    .dataframe thead th {\n",
       "        text-align: right;\n",
       "    }\n",
       "</style>\n",
       "<table border=\"1\" class=\"dataframe\">\n",
       "  <thead>\n",
       "    <tr style=\"text-align: right;\">\n",
       "      <th></th>\n",
       "      <th>e-mail</th>\n",
       "    </tr>\n",
       "  </thead>\n",
       "  <tbody>\n",
       "    <tr>\n",
       "      <th>0</th>\n",
       "      <td>prof.massaki@gmail.com</td>\n",
       "    </tr>\n",
       "    <tr>\n",
       "      <th>1</th>\n",
       "      <td>massaki.igarashi@mackenzie.br</td>\n",
       "    </tr>\n",
       "    <tr>\n",
       "      <th>2</th>\n",
       "      <td>massaki.igarashi@gmail.com</td>\n",
       "    </tr>\n",
       "    <tr>\n",
       "      <th>3</th>\n",
       "      <td>joaoantoniopinhal@hotmail.com</td>\n",
       "    </tr>\n",
       "    <tr>\n",
       "      <th>4</th>\n",
       "      <td>matheus.cremasco.ms@gmail.com</td>\n",
       "    </tr>\n",
       "    <tr>\n",
       "      <th>5</th>\n",
       "      <td>lucas.p.mattosinho@gmail.com</td>\n",
       "    </tr>\n",
       "    <tr>\n",
       "      <th>6</th>\n",
       "      <td>talitamartinsl@hotmail.com</td>\n",
       "    </tr>\n",
       "    <tr>\n",
       "      <th>7</th>\n",
       "      <td>igortainan@gmail.com</td>\n",
       "    </tr>\n",
       "    <tr>\n",
       "      <th>8</th>\n",
       "      <td>bella.jtoledo@gmail.com</td>\n",
       "    </tr>\n",
       "    <tr>\n",
       "      <th>9</th>\n",
       "      <td>lucasmochnack12@gmail.com</td>\n",
       "    </tr>\n",
       "    <tr>\n",
       "      <th>10</th>\n",
       "      <td>saragattiborges@gmail.com</td>\n",
       "    </tr>\n",
       "    <tr>\n",
       "      <th>11</th>\n",
       "      <td>mafbarsi@gmail.com</td>\n",
       "    </tr>\n",
       "  </tbody>\n",
       "</table>\n",
       "</div>"
      ],
      "text/plain": [
       "                           e-mail\n",
       "0          prof.massaki@gmail.com\n",
       "1   massaki.igarashi@mackenzie.br\n",
       "2      massaki.igarashi@gmail.com\n",
       "3   joaoantoniopinhal@hotmail.com\n",
       "4   matheus.cremasco.ms@gmail.com\n",
       "5    lucas.p.mattosinho@gmail.com\n",
       "6      talitamartinsl@hotmail.com\n",
       "7            igortainan@gmail.com\n",
       "8         bella.jtoledo@gmail.com\n",
       "9       lucasmochnack12@gmail.com\n",
       "10      saragattiborges@gmail.com\n",
       "11             mafbarsi@gmail.com"
      ]
     },
     "execution_count": 2,
     "metadata": {},
     "output_type": "execute_result"
    }
   ],
   "source": [
    "import pandas as pd\n",
    "\n",
    "df = pd.read_csv('mailLIST.csv', sep=',')\n",
    "\n",
    "df"
   ]
  },
  {
   "cell_type": "code",
   "execution_count": 5,
   "id": "69e7301e",
   "metadata": {},
   "outputs": [
    {
     "data": {
      "text/plain": [
       "'prof.massaki@gmail.com'"
      ]
     },
     "execution_count": 5,
     "metadata": {},
     "output_type": "execute_result"
    }
   ],
   "source": [
    "mail1 = df[\"e-mail\"][0]\n",
    "mail1"
   ]
  },
  {
   "cell_type": "code",
   "execution_count": 4,
   "id": "cb97fe47",
   "metadata": {},
   "outputs": [
    {
     "data": {
      "text/plain": [
       "prof.massaki@gmail.com           1\n",
       "massaki.igarashi@mackenzie.br    1\n",
       "massaki.igarashi@gmail.com       1\n",
       "joaoantoniopinhal@hotmail.com    1\n",
       "matheus.cremasco.ms@gmail.com    1\n",
       "lucas.p.mattosinho@gmail.com     1\n",
       "talitamartinsl@hotmail.com       1\n",
       "igortainan@gmail.com             1\n",
       "bella.jtoledo@gmail.com          1\n",
       "lucasmochnack12@gmail.com        1\n",
       "saragattiborges@gmail.com        1\n",
       "mafbarsi@gmail.com               1\n",
       "Name: e-mail, dtype: int64"
      ]
     },
     "execution_count": 4,
     "metadata": {},
     "output_type": "execute_result"
    }
   ],
   "source": [
    "df['e-mail'].value_counts()"
   ]
  },
  {
   "cell_type": "code",
   "execution_count": 3,
   "id": "bd609c37",
   "metadata": {},
   "outputs": [
    {
     "ename": "NameError",
     "evalue": "name 'mail1' is not defined",
     "output_type": "error",
     "traceback": [
      "\u001b[1;31m---------------------------------------------------------------------------\u001b[0m",
      "\u001b[1;31mNameError\u001b[0m                                 Traceback (most recent call last)",
      "\u001b[1;32m~\\AppData\\Local\\Temp/ipykernel_10112/3972377656.py\u001b[0m in \u001b[0;36m<module>\u001b[1;34m\u001b[0m\n\u001b[0;32m      8\u001b[0m \u001b[1;31m#pyautogui.press(\"tab\") # pula pro campo de assunto\u001b[0m\u001b[1;33m\u001b[0m\u001b[1;33m\u001b[0m\u001b[0m\n\u001b[0;32m      9\u001b[0m \u001b[1;31m#pyautogui.write(\"prof.massaki@gmail.com\")\u001b[0m\u001b[1;33m\u001b[0m\u001b[1;33m\u001b[0m\u001b[0m\n\u001b[1;32m---> 10\u001b[1;33m \u001b[0mpyautogui\u001b[0m\u001b[1;33m.\u001b[0m\u001b[0mwrite\u001b[0m\u001b[1;33m(\u001b[0m\u001b[0mstr\u001b[0m\u001b[1;33m(\u001b[0m\u001b[0mmail1\u001b[0m\u001b[1;33m)\u001b[0m\u001b[1;33m)\u001b[0m\u001b[1;33m\u001b[0m\u001b[1;33m\u001b[0m\u001b[0m\n\u001b[0m\u001b[0;32m     11\u001b[0m \u001b[0mpyautogui\u001b[0m\u001b[1;33m.\u001b[0m\u001b[0mpress\u001b[0m\u001b[1;33m(\u001b[0m\u001b[1;34m\"tab\"\u001b[0m\u001b[1;33m)\u001b[0m \u001b[1;31m# pula pro campo de assunto\u001b[0m\u001b[1;33m\u001b[0m\u001b[1;33m\u001b[0m\u001b[0m\n\u001b[0;32m     12\u001b[0m \u001b[0mpyautogui\u001b[0m\u001b[1;33m.\u001b[0m\u001b[0mpress\u001b[0m\u001b[1;33m(\u001b[0m\u001b[1;34m\"tab\"\u001b[0m\u001b[1;33m)\u001b[0m \u001b[1;31m# pula pro campo de assunto\u001b[0m\u001b[1;33m\u001b[0m\u001b[1;33m\u001b[0m\u001b[0m\n",
      "\u001b[1;31mNameError\u001b[0m: name 'mail1' is not defined"
     ]
    }
   ],
   "source": [
    "#Entrar no email\n",
    "pyautogui.hotkey(\"ctrl\", \"t\")\n",
    "pyperclip.copy(\"DIGITE_AQUI_LINK_NOVO_E-MAIL_DO_GOOGLE_TERMINANDO_EM_new\")\n",
    "pyautogui.hotkey(\"ctrl\", \"v\")\n",
    "pyautogui.press(\"enter\")\n",
    "time.sleep(7)\n",
    "\n",
    "#pyautogui.press(\"tab\") # pula pro campo de assunto\n",
    "#pyautogui.write(\"prof.massaki@gmail.com\")\n",
    "pyautogui.write(str(mail1))\n",
    "pyautogui.press(\"tab\") # pula pro campo de assunto\n",
    "pyautogui.press(\"tab\") # pula pro campo de assunto\n",
    "pyautogui.write(\"Feliz\")\n",
    "pyperclip.copy(\" Aniversario.\")\n",
    "pyautogui.hotkey(\"ctrl\", \"v\") # escrever o assunto\n",
    "pyautogui.press(\"tab\") #pular pro corpo do email\n",
    "time.sleep(2)\n",
    "pyautogui.write(\"Passando para desejar um Feliz Aniversario! \\n\")\n",
    "pyautogui.write(\"Muita saude, felicidades e muitos anos de vida. \\n\")\n",
    "pyautogui.write(\"Aproveite bem o seu dia!\")\n",
    "time.sleep(5)\n",
    "# apertar Ctrl Enter\n",
    "pyautogui.hotkey(\"ctrl\", \"enter\")"
   ]
  },
  {
   "cell_type": "code",
   "execution_count": 31,
   "id": "6768b9ac",
   "metadata": {},
   "outputs": [
    {
     "data": {
      "text/plain": [
       "'prof.massaki@gmail.com'"
      ]
     },
     "execution_count": 31,
     "metadata": {},
     "output_type": "execute_result"
    }
   ],
   "source": [
    "df[\"e-mail\"][0]"
   ]
  },
  {
   "cell_type": "code",
   "execution_count": 5,
   "id": "91ac5da8",
   "metadata": {},
   "outputs": [],
   "source": [
    "for i in range(12):\n",
    "    #print(df[\"e-mail\"][i])\n",
    "    pyautogui.hotkey(\"ctrl\", \"t\")\n",
    "    pyperclip.copy(\"https://mail.google.com/mail/u/0/#inbox?compose=new\")\n",
    "    pyautogui.hotkey(\"ctrl\", \"v\")\n",
    "    pyautogui.press(\"enter\")\n",
    "    time.sleep(7)\n",
    "\n",
    "    #pyautogui.press(\"tab\") # pula pro campo de assunto\n",
    "    #pyautogui.write(\"prof.massaki@gmail.com\")\n",
    "    pyautogui.write(str(df[\"e-mail\"][i]))\n",
    "    pyautogui.press(\"tab\") # pula pro campo de assunto\n",
    "    pyautogui.press(\"tab\") # pula pro campo de assunto\n",
    "    pyautogui.write(\"Feliz\")\n",
    "    pyperclip.copy(\" Aniversario.\")\n",
    "    pyautogui.hotkey(\"ctrl\", \"v\") # escrever o assunto\n",
    "    pyautogui.press(\"tab\") #pular pro corpo do email\n",
    "    time.sleep(2)\n",
    "    pyautogui.write(\"Passando para desejar um Feliz Aniversario! \\n\")\n",
    "    pyautogui.write(\"Muita saude, felicidades e muitos anos de vida. \\n\")\n",
    "    pyautogui.write(\"Aproveite bem o seu dia!\")\n",
    "    time.sleep(5)\n",
    "    # apertar Ctrl Enter\n",
    "    pyautogui.hotkey(\"ctrl\", \"enter\")"
   ]
  },
  {
   "cell_type": "code",
   "execution_count": null,
   "id": "4da00248",
   "metadata": {},
   "outputs": [],
   "source": []
  }
 ],
 "metadata": {
  "kernelspec": {
   "display_name": "Python 3 (ipykernel)",
   "language": "python",
   "name": "python3"
  },
  "language_info": {
   "codemirror_mode": {
    "name": "ipython",
    "version": 3
   },
   "file_extension": ".py",
   "mimetype": "text/x-python",
   "name": "python",
   "nbconvert_exporter": "python",
   "pygments_lexer": "ipython3",
   "version": "3.9.7"
  }
 },
 "nbformat": 4,
 "nbformat_minor": 5
}
