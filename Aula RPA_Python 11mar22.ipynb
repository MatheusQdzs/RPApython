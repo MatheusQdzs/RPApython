{
 "cells": [
  {
   "cell_type": "code",
   "execution_count": 1,
   "id": "17592414",
   "metadata": {},
   "outputs": [],
   "source": [
    "import pyautogui\n",
    "import pyperclip\n",
    "import time\n",
    "\n",
    "pyautogui.PAUSE = 1\n",
    "\n",
    "# Passo 1: Entrar em link\n",
    "pyautogui.hotkey(\"ctrl\", \"t\")\n",
    "pyperclip.copy(\"https://pypi.org/project/pyperclip/\")\n",
    "pyautogui.hotkey(\"ctrl\", \"v\")\n",
    "pyautogui.press(\"enter\")\n",
    "\n",
    "time.sleep(5)"
   ]
  },
  {
   "cell_type": "code",
   "execution_count": 9,
   "id": "bf09aaa6",
   "metadata": {},
   "outputs": [
    {
     "ename": "SyntaxError",
     "evalue": "EOL while scanning string literal (Temp/ipykernel_11924/2946046442.py, line 10)",
     "output_type": "error",
     "traceback": [
      "\u001b[1;36m  File \u001b[1;32m\"C:\\Users\\massa\\AppData\\Local\\Temp/ipykernel_11924/2946046442.py\"\u001b[1;36m, line \u001b[1;32m10\u001b[0m\n\u001b[1;33m    pyautogui.write(\"ASSUNTO AQUI)\u001b[0m\n\u001b[1;37m                                  ^\u001b[0m\n\u001b[1;31mSyntaxError\u001b[0m\u001b[1;31m:\u001b[0m EOL while scanning string literal\n"
     ]
    }
   ],
   "source": [
    "# Passo 2: Entrar no email\n",
    "pyautogui.hotkey(\"ctrl\", \"t\")\n",
    "pyperclip.copy(\"https://mail.google.com/mail/u/0/#inbox?compose=new\")\n",
    "pyautogui.hotkey(\"ctrl\", \"v\")\n",
    "pyautogui.press(\"enter\")\n",
    "time.sleep(5)\n",
    "pyautogui.press(\"tab\") # pula pro campo de assunto\n",
    "pyautogui.write(\"prof.massaki@gmail.com\")\n",
    "pyautogui.press(\"tab\") # pula pro campo de assunto\n",
    "pyautogui.write(\"ASSUNTO AQUI)\n",
    "pyperclip.copy(\"Digite o Assunto Aqui\")\n",
    "pyautogui.hotkey(\"ctrl\", \"v\") # escrever o assunto\n",
    "pyautogui.press(\"tab\") #pular pro corpo do email\n",
    "time.sleep(7)"
   ]
  },
  {
   "cell_type": "code",
   "execution_count": null,
   "id": "1aed8ba8",
   "metadata": {},
   "outputs": [],
   "source": []
  }
 ],
 "metadata": {
  "kernelspec": {
   "display_name": "Python 3 (ipykernel)",
   "language": "python",
   "name": "python3"
  },
  "language_info": {
   "codemirror_mode": {
    "name": "ipython",
    "version": 3
   },
   "file_extension": ".py",
   "mimetype": "text/x-python",
   "name": "python",
   "nbconvert_exporter": "python",
   "pygments_lexer": "ipython3",
   "version": "3.9.7"
  }
 },
 "nbformat": 4,
 "nbformat_minor": 5
}
